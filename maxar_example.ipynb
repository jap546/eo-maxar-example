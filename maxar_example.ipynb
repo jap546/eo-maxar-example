{
 "cells": [
  {
   "cell_type": "markdown",
   "metadata": {},
   "source": [
    "## Background\n",
    "\n",
    "Simplified way to interact with some selected Maxar Open Data STAC collections.\n",
    "\n",
    "Assumes you've run the repo installation instructions and have the docker services running.\n",
    "\n",
    "## Import libraries"
   ]
  },
  {
   "cell_type": "code",
   "execution_count": 1,
   "metadata": {},
   "outputs": [],
   "source": [
    "from datetime import datetime\n",
    "\n",
    "import geopandas as gpd\n",
    "\n",
    "from eo_maxar.util import MaxarCollection, get_collections"
   ]
  },
  {
   "cell_type": "markdown",
   "metadata": {},
   "source": [
    "View what collections are available."
   ]
  },
  {
   "cell_type": "code",
   "execution_count": 2,
   "metadata": {},
   "outputs": [
    {
     "data": {
      "text/plain": [
       "['MAXAR_afghanistan_earthquake22',\n",
       " 'MAXAR_BayofBengal_Cyclone_Mocha_May_23',\n",
       " 'MAXAR_cyclone_emnati22',\n",
       " 'MAXAR_Emilia_Romagna_Italy_flooding_may23',\n",
       " 'MAXAR_Gambia_flooding_8_11_2022',\n",
       " 'MAXAR_ghana_explosion22',\n",
       " 'MAXAR_Hurricane_Fiona_9_19_2022',\n",
       " 'MAXAR_Hurricane_Ian_9_26_2022',\n",
       " 'MAXAR_Hurricane_Idalia_Florida_Aug23',\n",
       " 'MAXAR_India_Floods_Oct_2023']"
      ]
     },
     "execution_count": 2,
     "metadata": {},
     "output_type": "execute_result"
    }
   ],
   "source": [
    "get_collections()"
   ]
  },
  {
   "cell_type": "markdown",
   "metadata": {},
   "source": [
    "## Turkey & Syria earthquake"
   ]
  },
  {
   "cell_type": "markdown",
   "metadata": {},
   "source": [
    "We'll get started with the 2023 Turkey & Syria earthquake to visualise collections of Cloud-Optimised GeoTIFFs pre and post event.\n",
    "\n",
    "The `MaxarCollection` is a pydantic base model and comes with various methods to make it simpler to interact with a collection."
   ]
  },
  {
   "cell_type": "code",
   "execution_count": 3,
   "metadata": {},
   "outputs": [],
   "source": [
    "collection_id = \"MAXAR_Kahramanmaras_turkey_earthquake_23\"\n",
    "\n",
    "turkey_earthquake = MaxarCollection(collection_id=collection_id)\n",
    "\n",
    "event_date = datetime(2023, 2, 6, hour=0, minute=0)  # noqa: DTZ001"
   ]
  },
  {
   "cell_type": "markdown",
   "metadata": {},
   "source": [
    "We can use `get_collection_info()` to return some selected information from the collection."
   ]
  },
  {
   "cell_type": "code",
   "execution_count": 4,
   "metadata": {},
   "outputs": [
    {
     "name": "stdout",
     "output_type": "stream",
     "text": [
      "id: MAXAR_Kahramanmaras_turkey_earthquake_23\n",
      "title: Turkey and Syria Earthquake 2023\n",
      "description: Maxar OpenData | A devastating magnitude 7.8 earthquake struck the Turkish province of Kahramanmaras, approximately 23 kilometers east of Nurdagi in the Gaziantep province near the Syrian border, at 4:17 a.m. local time on Monday, February 6, 2023, followed by a 7.5 magnitude aftershock nine hours later. More than 6,000 people have died in Turkey and Syria, and tens of thousands of people have been injured. Those numbers are expected to increase as search and rescue activities continue. At least 13 million people in the region have been impacted by the earthquake and aftershock. Turkey's president declared a three-month state of emergency in the 10 provinces hardest hit by the earthquake.\n",
      "extent: {'spatial': {'bbox': [[35.302597, 35.875122, 40.310497, 38.47292570695286], [37.2976, 36.98959965805714, 37.47444448907068, 37.015901889979396], [37.29774464331677, 36.9896650792383, 37.457524034308584, 37.117494], [36.141868, 36.26635032674398, 36.244766, 36.393881], [36.14285540815239, 36.27356734921313, 36.244766, 36.393881], [36.902291, 37.557316, 36.958307, 37.596933], [36.624329, 36.345093, 36.735901, 36.434875], [36.564514, 35.875122, 36.675476, 35.964905], [36.82959060906311, 36.49276872321792, 37.05643641437666, 36.624878], [36.219925, 37.046738, 36.2736536401914, 37.09977], [37.29845588418028, 36.99314320511006, 37.451239755133756, 37.117494], [36.120792028864706, 36.14015655174187, 36.229566, 36.274482719340426], [38.733704, 37.115112, 38.846497, 37.204895], [36.52492568949533, 36.93517400388012, 36.72863746116338, 37.06533191094125], [36.75204714549616, 36.50431672606769, 36.99751367665573, 36.68516122654125], [36.984131, 36.535095, 37.095886, 36.624878], [37.015293359106195, 36.59325358233272, 37.155547, 36.733161], [36.03156315869698, 36.06630343440598, 36.29371596181921, 36.36321464638132], [36.66417067763287, 36.893916206160746, 36.94135503156023, 37.75292284596646], [36.036838063589464, 36.4652144103136, 36.27718132402165, 36.722983669639376], [38.665964936097254, 37.04277780314956, 38.94765149264787, 37.29842755492842], [36.28243347151518, 35.885955, 36.395818, 35.91849849773082], [36.72270807760239, 37.65133933817404, 36.9793372183526, 37.79360976480217], [37.2086027984948, 36.881200182870394, 37.44697269340033, 37.26814965132743], [38.21733111168587, 37.97251565108862, 38.409942390844414, 38.09743204047995], [36.101348035914086, 36.76332547049597, 36.35006037398585, 37.41402735975632], [37.70435909472475, 37.26157993157078, 38.05014092021386, 37.671077037448654], [36.44806059380522, 36.22653163722294, 36.66070588836183, 36.40326083358293], [37.01238203496642, 36.43038760493783, 37.31047812435665, 36.658668804068476], [36.907266976936285, 36.91571544705779, 37.196434355565295, 37.75365980936115], [38.06015901091088, 38.21578061676832, 38.514428711330694, 38.47292570695286], [35.83991709050044, 35.9705643562241, 36.10847691997119, 36.17602181808681], [36.105150480151075, 36.27875001883506, 36.29594418508315, 36.41108994278732], [37.12404392170605, 37.35089079249487, 37.35525581234215, 37.5239390669561], [36.6730422579986, 36.89045223710193, 36.91347807060852, 37.78150025530812], [38.0536304324591, 37.41090295448065, 38.29096023713685, 37.58653325515288], [36.43724012011105, 36.24764802911114, 36.66897323882865, 36.40705503478506], [36.875450454679346, 36.896755071405416, 37.1056071352593, 37.76069174411886], [36.21137593252559, 36.255251436293435, 36.51064099676639, 36.647496845069654], [36.211769692001056, 36.075668813861, 36.44235468786762, 36.252806635855656], [37.14711752539602, 37.37434549247727, 37.33228793498362, 37.49587783519038], [38.21853995071469, 37.44943435925765, 38.41192931836562, 37.583882015377775], [36.202057998869144, 36.08390040008945, 36.45085162597366, 36.233179179599425], [36.233731890265176, 36.09191875516428, 36.42100329746004, 36.22189139397725], [37.34847971373171, 36.989585, 37.481124, 37.11508889563412], [36.219925, 37.046738, 36.289395, 37.09977], [36.098953, 36.127932, 36.244766, 36.393881], [38.238107, 37.731408, 38.315815, 37.786996], [38.042463765821005, 37.61816582040614, 38.45685512435119, 37.90150133428409], [37.18508732537049, 36.93624019118607, 37.57628185978109, 37.20300563112067], [36.70782972919, 37.31458599226506, 37.094357387346356, 37.6388459951458], [36.074011762291256, 36.99645281441965, 36.43039951083553, 37.135050489529895], [35.968135480519166, 36.08290230501916, 36.36857878735416, 36.32611087960102], [38.70465012519544, 37.07660046856506, 38.893745912810424, 37.27151792513816], [40.143822, 37.856098, 40.310497, 37.980469], [38.265734, 38.325282, 38.364036, 38.364057], [40.14692993954917, 37.856098, 40.310497, 37.980469], [35.31641318680286, 36.960976, 35.368635, 37.008584], [35.302597, 36.960976, 35.36398424807608, 37.008584], [38.45306702857648, 37.94082755698512, 38.657175176272865, 38.07998553098428], [36.19771383328533, 36.289375731514305, 36.244766, 36.393881], [37.5349349182917, 37.628945467548746, 37.75370005291414, 37.872636243463944], [38.07315289705838, 37.380707112687496, 38.265428996422365, 37.510271067760094], [38.2218091717765, 37.38740327001574, 38.405563602481934, 37.53170888512031], [36.479697307813865, 37.09779831915633, 36.67267878878018, 37.2659270008341], [38.073629038992614, 37.6594826423537, 38.47610470922022, 37.822928477886215], [37.41476153956851, 37.317027074723, 37.75820367105651, 37.66896109246899], [36.56528740012546, 36.87524918186195, 36.71349084791951, 37.36166156925326], [36.01872866649527, 36.35620582718621, 36.3008169441504, 36.81207927785697], [38.39407950596177, 37.704004721321084, 38.54284528399045, 37.80549833312407], [37.127176401642046, 37.30651913415134, 37.45752114315339, 37.692537568633696], [37.04960614445558, 36.63191806453216, 37.205072570194794, 36.746574586631844], [35.32861203895262, 36.92457322406428, 35.524038262221666, 37.054124418665666], [36.53976967540979, 36.94435109019758, 36.720503605651295, 37.09419588532061], [36.566276833224975, 36.95893269570756, 36.769122320104394, 37.2221669589583], [36.39431428595146, 37.16743689744272, 36.597739259691394, 37.27632822643855], [36.804077, 36.465088, 36.915894, 36.554871]]}, 'temporal': {'interval': [['2021-02-28T08:10:22Z', '2023-03-11T08:29:15Z']]}}\n",
      "links: [{'rel': 'items', 'type': 'application/geo+json', 'href': 'http://localhost:8081/collections/MAXAR_Kahramanmaras_turkey_earthquake_23/items'}, {'rel': 'parent', 'type': 'application/json', 'href': 'http://localhost:8081/'}, {'rel': 'root', 'type': 'application/json', 'href': 'http://localhost:8081/'}, {'rel': 'self', 'type': 'application/json', 'href': 'http://localhost:8081/collections/MAXAR_Kahramanmaras_turkey_earthquake_23'}, {'rel': 'http://www.opengis.net/def/rel/ogc/1.0/queryables', 'type': 'application/schema+json', 'title': 'Queryables', 'href': 'http://localhost:8081/collections/MAXAR_Kahramanmaras_turkey_earthquake_23/queryables'}]\n"
     ]
    }
   ],
   "source": [
    "for attribute, value in vars(turkey_earthquake.get_collection_info()).items():\n",
    "    print(f\"{attribute}: {value}\")"
   ]
  },
  {
   "cell_type": "markdown",
   "metadata": {},
   "source": [
    "### Collection map\n",
    "\n",
    "We can quickly map the extents of all items within a collection.\n",
    "\n",
    "The blue boxes specify the extent of each item, whereas the dashed black line is the extent of the entire collection."
   ]
  },
  {
   "cell_type": "code",
   "execution_count": 5,
   "metadata": {},
   "outputs": [
    {
     "data": {
      "application/vnd.jupyter.widget-view+json": {
       "model_id": "f7e23dda205c413988eb1b357877280e",
       "version_major": 2,
       "version_minor": 0
      },
      "text/plain": [
       "Map(center=[37.17402385347643, 37.806546999999995], controls=(ZoomControl(options=['position', 'zoom_in_text',…"
      ]
     },
     "execution_count": 5,
     "metadata": {},
     "output_type": "execute_result"
    }
   ],
   "source": [
    "m = turkey_earthquake.collection_bbox_map()\n",
    "m"
   ]
  },
  {
   "cell_type": "markdown",
   "metadata": {},
   "source": [
    "We can return every single item from the collection.\n",
    "\n",
    "These contain important information elating to the item, including:\n",
    "- `id`: each unique ID to identify specific items\n",
    "- `bbox`: bounding box that defines the geographical area the item covers.\n",
    "- `datetime`: indicates date and time item was collected.\n",
    "- `assets`: contains information on how to access specific variables of the item (e.g. visual, multispectral, panchromatic etc.)\n",
    "- `properties`: metadata of the item such as ground sampling distance, UTM zone, projection system, cloud cover.\n",
    "- `geometry`: geographical coordinates to define the shape (`Polygon`) of the item.\n",
    "\n",
    "You can find more on the specification: https://github.com/radiantearth/stac-spec/blob/master/item-spec/item-spec.md"
   ]
  },
  {
   "cell_type": "code",
   "execution_count": 7,
   "metadata": {},
   "outputs": [],
   "source": [
    "items = turkey_earthquake.get_collection_items()"
   ]
  },
  {
   "cell_type": "markdown",
   "metadata": {},
   "source": [
    "### Pre-Post event items\n",
    "Once we've got the collection items, we can split them into a pre and post event collection."
   ]
  },
  {
   "cell_type": "code",
   "execution_count": null,
   "metadata": {},
   "outputs": [],
   "source": [
    "m = turkey_earthquake.pre_post_map(items, event_date)\n",
    "m"
   ]
  },
  {
   "cell_type": "markdown",
   "metadata": {},
   "source": [
    "### Single COG image\n",
    "In our docker services, we have a raster API endpoint connected to the PgSTAC database. The service is built using [titiler-pgstac](http://github.com/stac-utils/titiler-pgstac) and can be used to visualize individual `Item` or `Mosaics` (multiple items).\n",
    "\n",
    "Raster endpoint: `http://localhost:8082`\n",
    "\n",
    "Each item has 4 assets and 3 of which are `Cloud-Optimised GeoTIFF` types which is what we're interested in in terms of earth observation data.\n",
    "\n",
    "Below we'll use the `single_cog_map()` method to view a single item using the `visual` asset - this is the default asset we use."
   ]
  },
  {
   "cell_type": "code",
   "execution_count": null,
   "metadata": {},
   "outputs": [],
   "source": [
    "turkey_earthquake.single_cog_map(items, items[0][\"id\"])"
   ]
  },
  {
   "cell_type": "markdown",
   "metadata": {},
   "source": [
    "But you can also view any of the COG files, below using the panchromatic image."
   ]
  },
  {
   "cell_type": "code",
   "execution_count": null,
   "metadata": {},
   "outputs": [],
   "source": [
    "turkey_earthquake.single_cog_map(items, items[0][\"id\"], asset=\"pan_analytic\")"
   ]
  },
  {
   "cell_type": "markdown",
   "metadata": {},
   "source": [
    "But the majority of the time we'll want the `visual` asset.\n",
    "\n",
    "### Mosaic map\n",
    "Although we can use to `titiler-pgstac` to visualise individual item assets, the raster APIs real benefit is creating a virtual mosaic dynamically and merging multiple items on the fly.\n",
    "\n",
    "These are created by making `httpx.post` request to the raster API to find all items that match a CQL filter, and are then sorted by the `tile:clouds_percent` and `direction` properties.\n",
    "\n",
    "We can then use this search request to create the virtual mosaic raster on the fly.\n",
    "\n",
    "Below we'll create a mosaic for Antakya in the Hatay region before the earthquake."
   ]
  },
  {
   "cell_type": "code",
   "execution_count": 9,
   "metadata": {},
   "outputs": [
    {
     "data": {
      "application/vnd.jupyter.widget-view+json": {
       "model_id": "3754c2f7138f4189a7a15fc96a581231",
       "version_major": 2,
       "version_minor": 0
      },
      "text/plain": [
       "Map(center=[36.2023795, 36.162014], controls=(ZoomControl(options=['position', 'zoom_in_text', 'zoom_in_title'…"
      ]
     },
     "execution_count": 9,
     "metadata": {},
     "output_type": "execute_result"
    }
   ],
   "source": [
    "bounds = [36.129570, 36.180701, 36.194458, 36.224058]\n",
    "\n",
    "turkey_earthquake.mosaic_map(\n",
    "    items=items,\n",
    "    bbox=bounds,\n",
    "    event_date=event_date,\n",
    "    pre_event=True,\n",
    ")"
   ]
  },
  {
   "cell_type": "markdown",
   "metadata": {},
   "source": [
    "And below, we can view it after the earthquake."
   ]
  },
  {
   "cell_type": "code",
   "execution_count": null,
   "metadata": {},
   "outputs": [],
   "source": [
    "turkey_earthquake.mosaic_map(\n",
    "    items=items,\n",
    "    bbox=bounds,\n",
    "    event_date=event_date,\n",
    "    pre_event=False,\n",
    ")"
   ]
  },
  {
   "cell_type": "markdown",
   "metadata": {},
   "source": [
    "### Mosaic split map\n",
    "We can also create a split map for a before and after event using the virtual mosaics, making it simpler visualise changes.\n",
    "\n",
    "Can also provide custom map keyword arguments."
   ]
  },
  {
   "cell_type": "code",
   "execution_count": 10,
   "metadata": {},
   "outputs": [
    {
     "data": {
      "application/vnd.jupyter.widget-view+json": {
       "model_id": "72adfdf8f4ad47398bb55f66fec08725",
       "version_major": 2,
       "version_minor": 0
      },
      "text/plain": [
       "Map(center=[36.2023795, 36.162014], controls=(ZoomControl(options=['position', 'zoom_in_text', 'zoom_in_title'…"
      ]
     },
     "execution_count": 10,
     "metadata": {},
     "output_type": "execute_result"
    }
   ],
   "source": [
    "turkey_earthquake.mosaic_split_map(\n",
    "    items=items,\n",
    "    bbox=bounds,\n",
    "    event_date=event_date,\n",
    "    map_kwargs={\n",
    "        \"center\": ((bounds[1] + bounds[3]) / 2, (bounds[0] + bounds[2]) / 2),\n",
    "        \"zoom\": 16,\n",
    "        \"layout\": {\"height\": \"650px\"},\n",
    "    },\n",
    ")"
   ]
  },
  {
   "cell_type": "markdown",
   "metadata": {},
   "source": [
    "## Ghana explosion\n",
    "\n",
    "We can use the UI frontend to explore other collections, such as the [Ghana explosion](http://localhost:8085/collections/MAXAR_ghana_explosion22).\n",
    "\n",
    "On 22/01/2022 a motorbike collied with a truck carrying 10 tons of explosives causing a blast which levelled the town of Apiate, located in western Ghana.\n",
    "\n",
    "We can use the same approach to quickly visalise the impact.\n"
   ]
  },
  {
   "cell_type": "code",
   "execution_count": null,
   "metadata": {},
   "outputs": [],
   "source": [
    "collection_id = \"MAXAR_ghana_explosion22\"\n",
    "\n",
    "ghana_explosion = MaxarCollection(collection_id=collection_id)\n",
    "\n",
    "for attribute, value in vars(ghana_explosion.get_collection_info()).items():\n",
    "    print(f\"{attribute}: {value}\")"
   ]
  },
  {
   "cell_type": "markdown",
   "metadata": {},
   "source": [
    "We can use tools from `geopandas` to geocode areas and make it a little easier for constructing the map requirements."
   ]
  },
  {
   "cell_type": "code",
   "execution_count": 14,
   "metadata": {},
   "outputs": [],
   "source": [
    "gdf = gpd.tools.geocode(\"Apiate, Ghana\")\n",
    "\n",
    "bounds = list(\n",
    "    map(\n",
    "        float, gdf.to_crs(gdf.estimate_utm_crs()).buffer(1000).to_crs(4326).total_bounds\n",
    "    )\n",
    ")\n",
    "\n",
    "event_date = datetime(2022, 1, 19, hour=0, minute=0)  # noqa: DTZ001\n",
    "\n",
    "items = ghana_explosion.get_collection_items()"
   ]
  },
  {
   "cell_type": "code",
   "execution_count": null,
   "metadata": {},
   "outputs": [],
   "source": [
    "ghana_explosion.mosaic_split_map(\n",
    "    items=items,\n",
    "    bbox=bounds,\n",
    "    event_date=event_date,\n",
    "    map_kwargs={\n",
    "        \"center\": ((bounds[1] + bounds[3]) / 2, (bounds[0] + bounds[2]) / 2),\n",
    "        \"zoom\": 18,\n",
    "        \"layout\": {\"height\": \"700px\"}\n",
    "    },\n",
    ")"
   ]
  },
  {
   "cell_type": "markdown",
   "metadata": {},
   "source": [
    "## Hurricane Ian\n",
    "\n",
    "Another example from the [Hurricane Ian collection](http://localhost:8085/collections/MAXAR_Hurricane_Ian_9_26_2022).\n",
    "\n",
    "Hurricane Ian made landfall as a Category 4 storm near Cay Costa, Florida, on Wednesday, September 28, 2022, with winds of 150 mph and with record storm surge flooding as high as 12 feet in some coastal areas.\n",
    "\n",
    "We'll have a quick look at the before and after on Sanibel Island, Florida."
   ]
  },
  {
   "cell_type": "code",
   "execution_count": null,
   "metadata": {},
   "outputs": [],
   "source": [
    "collection_id = \"MAXAR_Hurricane_Ian_9_26_2022\"\n",
    "\n",
    "hurricane_ian = MaxarCollection(collection_id=collection_id)\n",
    "\n",
    "for attribute, value in vars(hurricane_ian.get_collection_info()).items():\n",
    "    print(f\"{attribute}: {value}\")"
   ]
  },
  {
   "cell_type": "code",
   "execution_count": 22,
   "metadata": {},
   "outputs": [],
   "source": [
    "gdf = gpd.tools.geocode(\"Sanibel Island, Florida\")\n",
    "\n",
    "bounds = list(\n",
    "    map(\n",
    "        float, gdf.to_crs(gdf.estimate_utm_crs()).buffer(5000).to_crs(4326).total_bounds\n",
    "    )\n",
    ")\n",
    "\n",
    "event_date = datetime(2022, 9, 28, hour=0, minute=0)  # noqa: DTZ001"
   ]
  },
  {
   "cell_type": "code",
   "execution_count": 6,
   "metadata": {},
   "outputs": [],
   "source": [
    "items = hurricane_ian.get_collection_items()"
   ]
  },
  {
   "cell_type": "markdown",
   "metadata": {},
   "source": [
    "Post-event mosaic."
   ]
  },
  {
   "cell_type": "code",
   "execution_count": null,
   "metadata": {},
   "outputs": [],
   "source": [
    "hurricane_ian.mosaic_map(\n",
    "    items=items,\n",
    "    bbox=bounds,\n",
    "    event_date=event_date,\n",
    "    pre_event=False,\n",
    "    map_kwargs={\n",
    "        \"center\": ((bounds[1] + bounds[3]) / 2, (bounds[0] + bounds[2]) / 2),\n",
    "        \"zoom\": 12,\n",
    "        \"layout\": {\"height\": \"650px\"}\n",
    "    },\n",
    ")"
   ]
  }
 ],
 "metadata": {
  "kernelspec": {
   "display_name": "eo-maxar-example-xTGQFyCd-py3.11",
   "language": "python",
   "name": "python3"
  },
  "language_info": {
   "codemirror_mode": {
    "name": "ipython",
    "version": 3
   },
   "file_extension": ".py",
   "mimetype": "text/x-python",
   "name": "python",
   "nbconvert_exporter": "python",
   "pygments_lexer": "ipython3",
   "version": "3.11.5"
  }
 },
 "nbformat": 4,
 "nbformat_minor": 2
}
