{
  "cells": [
    {
      "cell_type": "markdown",
      "metadata": {},
      "source": [
        "## Background\n",
        "\n",
        "Simplified way to interact with some selected Maxar Open Data STAC collections.\n",
        "\n",
        "Assumes you've run the repo installation instructions and have the docker services running.\n",
        "\n",
        "## Import libraries"
      ]
    },
    {
      "cell_type": "code",
      "execution_count": null,
      "metadata": {},
      "outputs": [],
      "source": [
        "from datetime import datetime\n",
        "\n",
        "from eo_maxar.util import MaxarCollection, get_collections"
      ]
    },
    {
      "cell_type": "markdown",
      "metadata": {},
      "source": [
        "View what collections are available."
      ]
    },
    {
      "cell_type": "code",
      "execution_count": 5,
      "metadata": {},
      "outputs": [
        {
          "data": {
            "text/plain": [
              "['MAXAR_afghanistan_earthquake22',\n",
              " 'MAXAR_BayofBengal_Cyclone_Mocha_May_23',\n",
              " 'MAXAR_cyclone_emnati22',\n",
              " 'MAXAR_Emilia_Romagna_Italy_flooding_may23',\n",
              " 'MAXAR_Gambia_flooding_8_11_2022',\n",
              " 'MAXAR_ghana_explosion22',\n",
              " 'MAXAR_Hurricane_Fiona_9_19_2022',\n",
              " 'MAXAR_Hurricane_Ian_9_26_2022',\n",
              " 'MAXAR_Hurricane_Idalia_Florida_Aug23',\n",
              " 'MAXAR_India_Floods_Oct_2023',\n",
              " 'MAXAR_Indonesia_Earthquake22',\n",
              " 'MAXAR_Kahramanmaras_turkey_earthquake_23',\n",
              " 'MAXAR_Kalehe_DRC_Flooding_5_8_23',\n",
              " 'MAXAR_kentucky_flooding_7_29_2022',\n",
              " 'MAXAR_Libya_Floods_Sept_2023',\n",
              " 'MAXAR_Marshall_Fire_21_Update',\n",
              " 'MAXAR_Maui_Hawaii_fires_Aug_23',\n",
              " 'MAXAR_McDougallCreekWildfire_BC_Canada_Aug_23',\n",
              " 'MAXAR_Morocco_Earthquake_Sept_2023',\n",
              " 'MAXAR_Nepal_Earthquake_Nov_2023',\n",
              " 'MAXAR_New_Zealand_Flooding23',\n",
              " 'MAXAR_NWT_Canada_Aug_23',\n",
              " 'MAXAR_pakistan_flooding22',\n",
              " 'MAXAR_shovi_georgia_landslide_8Aug23',\n",
              " 'MAXAR_southafrica_flooding22',\n",
              " 'MAXAR_Sudan_flooding_8_22_2022',\n",
              " 'MAXAR_tonga_volcano21',\n",
              " 'MAXAR_volcano_indonesia21',\n",
              " 'MAXAR_yellowstone_flooding22']"
            ]
          },
          "execution_count": 5,
          "metadata": {},
          "output_type": "execute_result"
        }
      ],
      "source": [
        "get_collections()"
      ]
    },
    {
      "cell_type": "markdown",
      "metadata": {},
      "source": [
        "## Turkey & Syria earthquake"
      ]
    },
    {
      "cell_type": "markdown",
      "metadata": {},
      "source": [
        "We'll look at the 2023 Turkey & Syria earthquake data to start with.\n",
        "\n",
        "Define the collection ID, a `MaxarCollection` item to interact with and a pre-post event date."
      ]
    },
    {
      "cell_type": "code",
      "execution_count": 7,
      "metadata": {},
      "outputs": [],
      "source": [
        "collection_id = \"MAXAR_Kahramanmaras_turkey_earthquake_23\"\n",
        "\n",
        "turkey_earthquake = MaxarCollection(collection_id=collection_id)\n",
        "\n",
        "event_date = datetime(2023, 2, 6, hour=0, minute=0)  # noqa: DTZ001, RUF100"
      ]
    },
    {
      "cell_type": "markdown",
      "metadata": {},
      "source": [
        "We can use `get_collection_info()` to return some selected information from the collection."
      ]
    },
    {
      "cell_type": "code",
      "execution_count": 8,
      "metadata": {},
      "outputs": [
        {
          "name": "stdout",
          "output_type": "stream",
          "text": [
            "id: MAXAR_Kahramanmaras_turkey_earthquake_23\n",
            "title: Turkey and Syria Earthquake 2023\n",
            "description: Maxar OpenData | A devastating magnitude 7.8 earthquake struck the Turkish province of Kahramanmaras, approximately 23 kilometers east of Nurdagi in the Gaziantep province near the Syrian border, at 4:17 a.m. local time on Monday, February 6, 2023, followed by a 7.5 magnitude aftershock nine hours later. More than 6,000 people have died in Turkey and Syria, and tens of thousands of people have been injured. Those numbers are expected to increase as search and rescue activities continue. At least 13 million people in the region have been impacted by the earthquake and aftershock. Turkey's president declared a three-month state of emergency in the 10 provinces hardest hit by the earthquake.\n",
            "extent: {'spatial': {'bbox': [[35.302597, 35.875122, 40.310497, 38.47292570695286], [37.2976, 36.98959965805714, 37.47444448907068, 37.015901889979396], [37.29774464331677, 36.9896650792383, 37.457524034308584, 37.117494], [36.141868, 36.26635032674398, 36.244766, 36.393881], [36.14285540815239, 36.27356734921313, 36.244766, 36.393881], [36.902291, 37.557316, 36.958307, 37.596933], [36.624329, 36.345093, 36.735901, 36.434875], [36.564514, 35.875122, 36.675476, 35.964905], [36.82959060906311, 36.49276872321792, 37.05643641437666, 36.624878], [36.219925, 37.046738, 36.2736536401914, 37.09977], [37.29845588418028, 36.99314320511006, 37.451239755133756, 37.117494], [36.120792028864706, 36.14015655174187, 36.229566, 36.274482719340426], [38.733704, 37.115112, 38.846497, 37.204895], [36.52492568949533, 36.93517400388012, 36.72863746116338, 37.06533191094125], [36.75204714549616, 36.50431672606769, 36.99751367665573, 36.68516122654125], [36.984131, 36.535095, 37.095886, 36.624878], [37.015293359106195, 36.59325358233272, 37.155547, 36.733161], [36.03156315869698, 36.06630343440598, 36.29371596181921, 36.36321464638132], [36.66417067763287, 36.893916206160746, 36.94135503156023, 37.75292284596646], [36.036838063589464, 36.4652144103136, 36.27718132402165, 36.722983669639376], [38.665964936097254, 37.04277780314956, 38.94765149264787, 37.29842755492842], [36.28243347151518, 35.885955, 36.395818, 35.91849849773082], [36.72270807760239, 37.65133933817404, 36.9793372183526, 37.79360976480217], [37.2086027984948, 36.881200182870394, 37.44697269340033, 37.26814965132743], [38.21733111168587, 37.97251565108862, 38.409942390844414, 38.09743204047995], [36.101348035914086, 36.76332547049597, 36.35006037398585, 37.41402735975632], [37.70435909472475, 37.26157993157078, 38.05014092021386, 37.671077037448654], [36.44806059380522, 36.22653163722294, 36.66070588836183, 36.40326083358293], [37.01238203496642, 36.43038760493783, 37.31047812435665, 36.658668804068476], [36.907266976936285, 36.91571544705779, 37.196434355565295, 37.75365980936115], [38.06015901091088, 38.21578061676832, 38.514428711330694, 38.47292570695286], [35.83991709050044, 35.9705643562241, 36.10847691997119, 36.17602181808681], [36.105150480151075, 36.27875001883506, 36.29594418508315, 36.41108994278732], [37.12404392170605, 37.35089079249487, 37.35525581234215, 37.5239390669561], [36.6730422579986, 36.89045223710193, 36.91347807060852, 37.78150025530812], [38.0536304324591, 37.41090295448065, 38.29096023713685, 37.58653325515288], [36.43724012011105, 36.24764802911114, 36.66897323882865, 36.40705503478506], [36.875450454679346, 36.896755071405416, 37.1056071352593, 37.76069174411886], [36.21137593252559, 36.255251436293435, 36.51064099676639, 36.647496845069654], [36.211769692001056, 36.075668813861, 36.44235468786762, 36.252806635855656], [37.14711752539602, 37.37434549247727, 37.33228793498362, 37.49587783519038], [38.21853995071469, 37.44943435925765, 38.41192931836562, 37.583882015377775], [36.202057998869144, 36.08390040008945, 36.45085162597366, 36.233179179599425], [36.233731890265176, 36.09191875516428, 36.42100329746004, 36.22189139397725], [37.34847971373171, 36.989585, 37.481124, 37.11508889563412], [36.219925, 37.046738, 36.289395, 37.09977], [36.098953, 36.127932, 36.244766, 36.393881], [38.238107, 37.731408, 38.315815, 37.786996], [38.042463765821005, 37.61816582040614, 38.45685512435119, 37.90150133428409], [37.18508732537049, 36.93624019118607, 37.57628185978109, 37.20300563112067], [36.70782972919, 37.31458599226506, 37.094357387346356, 37.6388459951458], [36.074011762291256, 36.99645281441965, 36.43039951083553, 37.135050489529895], [35.968135480519166, 36.08290230501916, 36.36857878735416, 36.32611087960102], [38.70465012519544, 37.07660046856506, 38.893745912810424, 37.27151792513816], [40.143822, 37.856098, 40.310497, 37.980469], [38.265734, 38.325282, 38.364036, 38.364057], [40.14692993954917, 37.856098, 40.310497, 37.980469], [35.31641318680286, 36.960976, 35.368635, 37.008584], [35.302597, 36.960976, 35.36398424807608, 37.008584], [38.45306702857648, 37.94082755698512, 38.657175176272865, 38.07998553098428], [36.19771383328533, 36.289375731514305, 36.244766, 36.393881], [37.5349349182917, 37.628945467548746, 37.75370005291414, 37.872636243463944], [38.07315289705838, 37.380707112687496, 38.265428996422365, 37.510271067760094], [38.2218091717765, 37.38740327001574, 38.405563602481934, 37.53170888512031], [36.479697307813865, 37.09779831915633, 36.67267878878018, 37.2659270008341], [38.073629038992614, 37.6594826423537, 38.47610470922022, 37.822928477886215], [37.41476153956851, 37.317027074723, 37.75820367105651, 37.66896109246899], [36.56528740012546, 36.87524918186195, 36.71349084791951, 37.36166156925326], [36.01872866649527, 36.35620582718621, 36.3008169441504, 36.81207927785697], [38.39407950596177, 37.704004721321084, 38.54284528399045, 37.80549833312407], [37.127176401642046, 37.30651913415134, 37.45752114315339, 37.692537568633696], [37.04960614445558, 36.63191806453216, 37.205072570194794, 36.746574586631844], [35.32861203895262, 36.92457322406428, 35.524038262221666, 37.054124418665666], [36.53976967540979, 36.94435109019758, 36.720503605651295, 37.09419588532061], [36.566276833224975, 36.95893269570756, 36.769122320104394, 37.2221669589583], [36.39431428595146, 37.16743689744272, 36.597739259691394, 37.27632822643855], [36.804077, 36.465088, 36.915894, 36.554871]]}, 'temporal': {'interval': [['2021-02-28T08:10:22Z', '2023-03-11T08:29:15Z']]}}\n",
            "links: [{'rel': 'items', 'type': 'application/geo+json', 'href': 'http://localhost:8081/collections/MAXAR_Kahramanmaras_turkey_earthquake_23/items'}, {'rel': 'parent', 'type': 'application/json', 'href': 'http://localhost:8081/'}, {'rel': 'root', 'type': 'application/json', 'href': 'http://localhost:8081/'}, {'rel': 'self', 'type': 'application/json', 'href': 'http://localhost:8081/collections/MAXAR_Kahramanmaras_turkey_earthquake_23'}, {'rel': 'http://www.opengis.net/def/rel/ogc/1.0/queryables', 'type': 'application/schema+json', 'title': 'Queryables', 'href': 'http://localhost:8081/collections/MAXAR_Kahramanmaras_turkey_earthquake_23/queryables'}]\n"
          ]
        }
      ],
      "source": [
        "for attribute, value in vars(turkey_earthquake.get_collection_info()).items():\n",
        "    print(f\"{attribute}: {value}\")"
      ]
    },
    {
      "cell_type": "markdown",
      "metadata": {},
      "source": [
        "### Collection map\n",
        "\n",
        "We can quickly map the extents of all items within a collection.\n",
        "\n",
        "The blue boxes specify the extent of each item, whereas the dashed black line is the extent of the entire collection."
      ]
    },
    {
      "cell_type": "code",
      "execution_count": 9,
      "metadata": {},
      "outputs": [
        {
          "data": {
            "application/vnd.jupyter.widget-view+json": {
              "model_id": "e284635d196f4890bde3ba7f2ffc3a0c",
              "version_major": 2,
              "version_minor": 0
            },
            "text/plain": [
              "Map(center=[37.17402385347643, 37.806546999999995], controls=(ZoomControl(options=['position', 'zoom_in_text',\u2026"
            ]
          },
          "execution_count": 9,
          "metadata": {},
          "output_type": "execute_result"
        }
      ],
      "source": [
        "m = turkey_earthquake.collection_bbox_map()\n",
        "m"
      ]
    },
    {
      "cell_type": "markdown",
      "metadata": {},
      "source": [
        "We can also represent every single item from the collection.\n",
        "\n",
        "These contain important information elating to the item such as information on the spatio-temporal extent, links to raster data, key metadata and geometry data.\n",
        "\n",
        "You can find more on the specification: https://github.com/radiantearth/stac-spec/blob/master/item-spec/item-spec.md"
      ]
    },
    {
      "cell_type": "code",
      "execution_count": 11,
      "metadata": {},
      "outputs": [],
      "source": [
        "items = turkey_earthquake.get_collection_items()"
      ]
    },
    {
      "cell_type": "markdown",
      "metadata": {},
      "source": [
        "### Pre-Post event items\n",
        "Once we've got the collection items, we can split them into a pre and post event collection.\n",
        "\n",
        "Blue: pre\n",
        "\n",
        "Red: post"
      ]
    },
    {
      "cell_type": "code",
      "execution_count": 12,
      "metadata": {},
      "outputs": [
        {
          "data": {
            "application/vnd.jupyter.widget-view+json": {
              "model_id": "eb35d3f1e32c44e58a15315bf6aaa9e1",
              "version_major": 2,
              "version_minor": 0
            },
            "text/plain": [
              "Map(center=[37.17402385347643, 37.806546999999995], controls=(ZoomControl(options=['position', 'zoom_in_text',\u2026"
            ]
          },
          "execution_count": 12,
          "metadata": {},
          "output_type": "execute_result"
        }
      ],
      "source": [
        "m = turkey_earthquake.pre_post_map(items, event_date)\n",
        "m"
      ]
    },
    {
      "cell_type": "markdown",
      "metadata": {},
      "source": [
        "### Single COG image\n",
        "In our docker services, we have a raster API endpoint connected to the PgSTAC database. The service is built using [titiler-pgstac](http://github.com/stac-utils/titiler-pgstac) and can be used to visualize individual `Item` or `Mosaics` (multiple items).\n",
        "\n",
        "Raster endpoint: `http://localhost:8082`\n",
        "\n",
        "Each item has 4 assets and 3 of which are `Cloud-Optimised GeoTIFF` types which is what we're interested in in terms of earth observation data.\n",
        "\n",
        "Below we'll use the `single_cog_map()` method to view a single item using the `visual` asset - this is the default asset we use."
      ]
    },
    {
      "cell_type": "code",
      "execution_count": 13,
      "metadata": {},
      "outputs": [
        {
          "data": {
            "application/vnd.jupyter.widget-view+json": {
              "model_id": "f8eb4f0bbd594b8cb7d0dbf751cab397",
              "version_major": 2,
              "version_minor": 0
            },
            "text/plain": [
              "Map(center=[36.10519545142351, 36.404020998028585], controls=(ZoomControl(options=['position', 'zoom_in_text',\u2026"
            ]
          },
          "execution_count": 13,
          "metadata": {},
          "output_type": "execute_result"
        }
      ],
      "source": [
        "turkey_earthquake.single_cog_map(items, items[0][\"id\"])"
      ]
    },
    {
      "cell_type": "markdown",
      "metadata": {},
      "source": [
        "### Mosaic map\n",
        "Although we can use to `titiler-pgstac` to visualise individual item assets, the raster APIs real benefit is creating a virtual mosaic dynamically and merging multiple items on the fly.\n",
        "\n",
        "These are created by making `httpx.post` request to the raster API to find all items that match a CQL filter, and are then sorted by the `tile:clouds_percent` and `direction` properties.\n",
        "\n",
        "We can then use this search request to create the virtual mosaic raster on the fly.\n",
        "\n",
        "Below we'll create a mosaic for Antakya in the Hatay region before the earthquake."
      ]
    },
    {
      "cell_type": "code",
      "execution_count": 22,
      "metadata": {},
      "outputs": [
        {
          "data": {
            "application/vnd.jupyter.widget-view+json": {
              "model_id": "9d942b50ebcd49b19a723da00e64a81b",
              "version_major": 2,
              "version_minor": 0
            },
            "text/plain": [
              "Map(center=[36.2023795, 36.162014], controls=(ZoomControl(options=['position', 'zoom_in_text', 'zoom_in_title'\u2026"
            ]
          },
          "execution_count": 22,
          "metadata": {},
          "output_type": "execute_result"
        }
      ],
      "source": [
        "bounds = [36.129570, 36.180701, 36.194458, 36.224058]\n",
        "\n",
        "turkey_earthquake.pre_event_mosaic_map(\n",
        "    bbox=bounds,\n",
        "    event_date=event_date,\n",
        "    map_kwargs={\n",
        "        \"center\": ((bounds[1] + bounds[3]) / 2, (bounds[0] + bounds[2]) / 2),\n",
        "        \"zoom\": 17,\n",
        "        \"layout\": {\"height\": \"650px\"},\n",
        "    },\n",
        ")"
      ]
    },
    {
      "cell_type": "markdown",
      "metadata": {},
      "source": [
        "And below, we can view it after the earthquake."
      ]
    },
    {
      "cell_type": "code",
      "execution_count": 21,
      "metadata": {},
      "outputs": [
        {
          "data": {
            "application/vnd.jupyter.widget-view+json": {
              "model_id": "50bfd0c4590d42b1924214f317f50db8",
              "version_major": 2,
              "version_minor": 0
            },
            "text/plain": [
              "Map(center=[36.2023795, 36.162014], controls=(ZoomControl(options=['position', 'zoom_in_text', 'zoom_in_title'\u2026"
            ]
          },
          "execution_count": 21,
          "metadata": {},
          "output_type": "execute_result"
        }
      ],
      "source": [
        "turkey_earthquake.post_event_mosaic_map(\n",
        "    bbox=bounds,\n",
        "    event_date=event_date,\n",
        "    map_kwargs={\n",
        "        \"center\": ((bounds[1] + bounds[3]) / 2, (bounds[0] + bounds[2]) / 2),\n",
        "        \"zoom\": 17,\n",
        "        \"layout\": {\"height\": \"650px\"},\n",
        "    },\n",
        ")"
      ]
    },
    {
      "cell_type": "markdown",
      "metadata": {},
      "source": [
        "### Mosaic split map\n",
        "We can also create a split map for a before and after event using the virtual mosaics, making it simpler visualise changes."
      ]
    },
    {
      "cell_type": "code",
      "execution_count": 23,
      "metadata": {},
      "outputs": [
        {
          "data": {
            "application/vnd.jupyter.widget-view+json": {
              "model_id": "4ea2d2c5b1a1425486f1a47e298a8631",
              "version_major": 2,
              "version_minor": 0
            },
            "text/plain": [
              "Map(center=[36.2023795, 36.162014], controls=(ZoomControl(options=['position', 'zoom_in_text', 'zoom_in_title'\u2026"
            ]
          },
          "execution_count": 23,
          "metadata": {},
          "output_type": "execute_result"
        }
      ],
      "source": [
        "turkey_earthquake.mosaic_split_map(\n",
        "    bbox=bounds,\n",
        "    event_date=event_date,\n",
        "    map_kwargs={\n",
        "        \"center\": ((bounds[1] + bounds[3]) / 2, (bounds[0] + bounds[2]) / 2),\n",
        "        \"zoom\": 17,\n",
        "        \"layout\": {\"height\": \"650px\"},\n",
        "    },\n",
        ")"
      ]
    },
    {
      "cell_type": "markdown",
      "metadata": {},
      "source": [
        "## Ghana explosion\n",
        "\n",
        "We can use the UI frontend to explore other collections, such as the [Ghana explosion](http://localhost:8085/collections/MAXAR_ghana_explosion22).\n",
        "\n",
        "On 22/01/2022 a motorbike collied with a truck carrying 10 tons of explosives causing a blast which levelled the town of Apiate, located in western Ghana.\n",
        "\n",
        "We can use the same approach to quickly visalise the impact.\n"
      ]
    },
    {
      "cell_type": "code",
      "execution_count": 16,
      "metadata": {},
      "outputs": [
        {
          "name": "stdout",
          "output_type": "stream",
          "text": [
            "id: MAXAR_ghana_explosion22\n",
            "title: Ghana Explosion\n",
            "description: Maxar OpenData | On Sunday, January 20, 2022, a motorbike collided with a truck carrying 10 tons of explosives causing a blast that leveled the entire town of Apiate, located in western Ghana. The explosives were being delivered to the nearby Chirano gold mine. The small town was reduced to rubble, timber and twisted metal, with a large crater at the center of the explosion. As of January 24, 13 people had been killed and approximately 200 injured.\n",
            "extent: {'spatial': {'bbox': [[-2.163058656818844, 4.686869783743527, -1.941504778100328, 6.009346352305143], [-2.102893710240898, 4.686869783743527, -1.94443047176199, 6.009346352305143], [-2.163058656818844, 5.24370462781881, -1.993741099332081, 5.664113390366951], [-2.11652117657606, 5.475347139049133, -1.941504778100328, 5.670042897561462]]}, 'temporal': {'interval': [['2020-01-06T10:43:48Z', '2022-01-22T10:49:54Z']]}}\n",
            "links: [{'rel': 'items', 'type': 'application/geo+json', 'href': 'http://localhost:8081/collections/MAXAR_ghana_explosion22/items'}, {'rel': 'parent', 'type': 'application/json', 'href': 'http://localhost:8081/'}, {'rel': 'root', 'type': 'application/json', 'href': 'http://localhost:8081/'}, {'rel': 'self', 'type': 'application/json', 'href': 'http://localhost:8081/collections/MAXAR_ghana_explosion22'}, {'rel': 'http://www.opengis.net/def/rel/ogc/1.0/queryables', 'type': 'application/schema+json', 'title': 'Queryables', 'href': 'http://localhost:8081/collections/MAXAR_ghana_explosion22/queryables'}]\n"
          ]
        }
      ],
      "source": [
        "collection_id = \"MAXAR_ghana_explosion22\"\n",
        "\n",
        "ghana_explosion = MaxarCollection(collection_id=collection_id)\n",
        "\n",
        "for attribute, value in vars(ghana_explosion.get_collection_info()).items():\n",
        "    print(f\"{attribute}: {value}\")"
      ]
    },
    {
      "cell_type": "markdown",
      "metadata": {},
      "source": [
        "We can use tools from `geopandas` to geocode areas and make it a little easier for constructing the map requirements."
      ]
    },
    {
      "cell_type": "code",
      "execution_count": null,
      "metadata": {},
      "outputs": [],
      "source": [
        "import geopandas as gpd\n",
        "\n",
        "gdf = gpd.tools.geocode(\"Apiate, Ghana\")\n",
        "\n",
        "bounds = list(\n",
        "    map(\n",
        "        float, gdf.to_crs(gdf.estimate_utm_crs()).buffer(1000).to_crs(4326).total_bounds\n",
        "    )\n",
        ")\n",
        "\n",
        "event_date = datetime(2022, 1, 19, hour=0, minute=0)  # noqa: DTZ001, RUF100\n",
        "\n",
        "items = ghana_explosion.get_collection_items()"
      ]
    },
    {
      "cell_type": "code",
      "execution_count": 18,
      "metadata": {},
      "outputs": [
        {
          "data": {
            "application/vnd.jupyter.widget-view+json": {
              "model_id": "371236a878734cb49dd6c56be61eb5fb",
              "version_major": 2,
              "version_minor": 0
            },
            "text/plain": [
              "Map(center=[5.584911298591983, -2.0464450120290216], controls=(ZoomControl(options=['position', 'zoom_in_text'\u2026"
            ]
          },
          "execution_count": 18,
          "metadata": {},
          "output_type": "execute_result"
        }
      ],
      "source": [
        "ghana_explosion.mosaic_split_map(\n",
        "    bbox=bounds,\n",
        "    event_date=event_date,\n",
        "    map_kwargs={\n",
        "        \"center\": ((bounds[1] + bounds[3]) / 2, (bounds[0] + bounds[2]) / 2),\n",
        "        \"zoom\": 18,\n",
        "        \"layout\": {\"height\": \"700px\"},\n",
        "    },\n",
        ")"
      ]
    },
    {
      "cell_type": "markdown",
      "metadata": {},
      "source": [
        "## Hurricane Ian\n",
        "\n",
        "Another example from the [Hurricane Ian collection](http://localhost:8085/collections/MAXAR_Hurricane_Ian_9_26_2022).\n",
        "\n",
        "Hurricane Ian made landfall as a Category 4 storm near Cay Costa, Florida, on Wednesday, September 28, 2022, with winds of 150 mph and with record storm surge flooding as high as 12 feet in some coastal areas.\n",
        "\n",
        "We'll have a quick look at the before and after on Sanibel Island, Florida."
      ]
    },
    {
      "cell_type": "code",
      "execution_count": 24,
      "metadata": {},
      "outputs": [
        {
          "name": "stdout",
          "output_type": "stream",
          "text": [
            "id: MAXAR_Hurricane_Ian_9_26_2022\n",
            "title: Hurricane Ian\n",
            "description: Maxar OpenData | Hurricane Ian made landfall as a Category 4 storm near Cay Costa, Florida, on Wednesday, September 28, 2022, with winds of 150 mph and with record storm surge flooding as high as 12 feet in some coastal areas. 2.5 million people were left without power while property damages were estimated to be at least $113 billion. 116 people were killed in the USA and neighboring Cuba.\n",
            "extent: {'spatial': {'bbox': [[-83.901156, 22.179453, -78.76563736022848, 33.96944669284327], [-82.0198065782888, 26.464945002172342, -81.74089679642375, 26.88739117754846], [-81.98115622654164, 25.999567441531866, -81.6012435447469, 26.601251377033204], [-81.69349032663095, 25.998435318619297, -81.47416523669433, 26.630565603111673], [-81.91307486127658, 26.310667782819692, -81.73505446273649, 26.47069233481796], [-82.159635401552, 26.063780134370397, -81.97508024877337, 27.013933488312134], [-82.26627444807235, 26.389276848311134, -82.07883312718384, 27.016153766657272], [-81.81241165447605, 26.208823893804148, -81.61467372357629, 26.384186631793014], [-82.69083122524717, 27.011945057801263, -82.45664236923578, 28.05376848387163], [-81.76612312093728, 26.757274204837767, -81.60828992796793, 26.998195], [-83.60767366053702, 22.221370444703258, -83.359361, 22.584077], [-81.261597, 29.535095, -81.158325, 29.624878], [-83.81189919895866, 22.183553069332195, -83.58065935901439, 22.804871], [-83.901156, 22.179453, -83.78618994998156, 22.517352187283585], [-81.39372192697093, 28.24291011999315, -81.33282722, 28.34676792], [-81.75548762296866, 26.343990562059243, -81.591535360599, 26.465606752684664], [-79.43811595274038, 33.21475696949905, -79.22187673020704, 33.79946404575505], [-81.450989, 28.265076, -81.29965921417252, 28.554871], [-83.84073814292422, 22.179453, -83.66664469047254, 22.804871], [-80.246682, 32.81338150343906, -80.10685862197752, 33.06182285820447], [-79.97024371490157, 32.616627, -79.78344753761228, 33.131952], [-79.83052269405552, 32.72919419115654, -79.779797, 32.86571314833148], [-82.80894136888932, 27.735933647040255, -82.63199197901416, 28.15107934371677], [-82.40114800210533, 26.923023129712522, -82.22615183169938, 27.77157177219194], [-82.65443896384585, 27.737388586910857, -82.48317325087173, 28.159530422547203], [-80.16407115823176, 33.01189010102752, -79.95023642211497, 33.131952], [-82.50561027471139, 26.92797411488498, -82.33794115691138, 27.96739788899394], [-82.8756641255437, 27.932945275012518, -82.73642586629026, 28.145139152817027], [-82.908664, 27.604739984406173, -82.77807425515776, 27.971437523597505], [-82.80913003417683, 27.375490600866907, -82.63395785411164, 27.971001019698598], [-82.62112301418064, 27.761626504304285, -82.45267628682424, 28.133721162773575], [-82.46978163264086, 27.75953055479588, -82.30231356032427, 28.132430139102443], [-82.00560393216266, 26.768181298397934, -81.77377881929759, 27.021042409094], [-82.32025871713358, 27.76108008938294, -82.24638788570303, 27.979291398724733], [-82.6211917739363, 27.056919339202484, -82.44366105336108, 27.431272937764227], [-82.75865309049935, 27.36615720967039, -82.12924358377374, 28.15660984204002], [-82.57101030618352, 27.62090923988642, -82.23010630476321, 28.161405], [-82.32856004624429, 26.000104230405693, -81.66149691574576, 26.872653137111588], [-82.01961325203801, 26.348087088574527, -81.77344907460477, 27.27313612620753], [-82.11924780366031, 25.998195, -81.44719, 27.025009775920637], [-81.61109053977998, 25.998195, -81.44719, 26.436257855829638], [-83.71816735793848, 22.200798036234428, -83.51810121958297, 22.565213141219374], [-82.27159895529434, 26.00197404404036, -81.87137938559815, 26.66675735548099], [-83.5437231766452, 22.233233539766786, -83.359361, 22.584077], [-82.85103342854757, 27.35314149619206, -82.6209944091663, 27.798925805181234], [-82.2020650276169, 26.34829104607533, -81.97255626644234, 27.403621000148924], [-82.21820785388458, 25.998662490550956, -81.4693030745998, 26.939402114022705], [-83.901156, 22.179453, -83.69127527174174, 22.53465787936872], [-82.43716212999043, 27.146101841882913, -82.20225330006315, 27.78561598169231], [-82.85484142636044, 27.301427927059787, -82.24636366987141, 28.145726636027], [-81.85012784967945, 25.9993395435529, -81.57415996928762, 26.395393313011358], [-82.90557379263358, 27.23910094761429, -82.38762546894247, 28.049401662075994], [-82.64500801795745, 27.130834770271296, -82.4114402372194, 27.78614320206215], [-82.54112074459, 26.821293590267718, -82.34759579295, 27.210639277278993], [-81.261597, 29.535095, -81.158325, 29.624878], [-82.08970442052225, 26.41197789758819, -81.79522002369899, 26.603485937631714], [-82.27226294747908, 26.705114802165703, -82.0940167270701, 27.785342718598425], [-78.91578854348349, 33.58853454438296, -78.76563736022848, 33.96944669284327], [-79.37856222235015, 33.134692, -79.19457995563451, 33.81666260857771], [-79.06918859385938, 33.346601451357245, -78.90839288420668, 33.787169987181194], [-79.22041245804454, 33.14813196571059, -79.04135252925948, 33.813760728814124], [-80.01047429480914, 32.88499901821015, -79.84322089293694, 33.131952], [-80.13992438852996, 32.616627, -79.93424096157655, 33.131952], [-82.3015034069607, 26.92812051715857, -82.1616099406539, 27.952998215749933], [-82.19877515198155, 26.908688703535624, -82.04190720901984, 27.44494], [-79.53128876146296, 33.28413123121551, -79.38459026078071, 33.48900854914762], [-82.47723367135123, 26.923763810323525, -82.33843254927375, 27.970650654949786], [-79.44255083820194, 33.18284038073279, -79.27487542712707, 33.503386613697835], [-81.46122013, 28.24239648, -81.36640488564169, 28.346516647163362], [-79.596828, 33.406323731184514, -79.51645177301337, 33.48587991321481], [-82.30946144119866, 26.38694866038185, -82.12785424415243, 27.358498207472575], [-82.908664, 27.75952356799786, -82.82201340626315, 28.135138335029144], [-83.778687, 22.715088, -83.681213, 22.804871], [-81.88837118920473, 26.85919798165699, -81.69479316975328, 27.046669151746148], [-81.7519619561204, 26.36400303384514, -81.56173821002089, 26.769861662488886], [-81.70811883348263, 26.379561970708927, -81.55061300595347, 26.89069029933937], [-81.33289000852463, 28.465088, -81.268799, 28.554871], [-81.450989, 28.265076, -81.29968967988397, 28.554871], [-81.56114115166913, 25.998195, -81.44719, 26.548455044953002], [-82.02171235714061, 26.920130581292295, -81.85965515325213, 27.276865840543522], [-79.596828, 33.34026175426697, -79.44219774760117, 33.61219149449467], [-82.47474514321979, 26.749530326833572, -82.3110614403938, 27.085259962058306], [-82.3352991009388, 26.700131622053398, -82.16143713757921, 27.08944729124141], [-79.26951968538876, 33.22052061158067, -79.0974741709356, 33.395597096130565], [-82.07242356366129, 26.703447430550863, -81.90704345913915, 27.362122088185718], [-82.27491555614078, 26.69352183330753, -82.10242456438175, 27.08761990222139], [-82.27336360222321, 27.398652846242292, -82.10320949256709, 27.792693542537496], [-82.4189059522887, 26.86716435525601, -81.97474877593012, 27.41698080341863], [-82.5463086067073, 26.805850603037452, -82.09930191794578, 27.36554172762565], [-82.58285047290853, 26.754240774694264, -82.22087680475893, 27.331465029926683]]}, 'temporal': {'interval': [['2021-04-29T18:51:09Z', '2022-10-08T19:09:10Z']]}}\n",
            "links: [{'rel': 'items', 'type': 'application/geo+json', 'href': 'http://localhost:8081/collections/MAXAR_Hurricane_Ian_9_26_2022/items'}, {'rel': 'parent', 'type': 'application/json', 'href': 'http://localhost:8081/'}, {'rel': 'root', 'type': 'application/json', 'href': 'http://localhost:8081/'}, {'rel': 'self', 'type': 'application/json', 'href': 'http://localhost:8081/collections/MAXAR_Hurricane_Ian_9_26_2022'}, {'rel': 'http://www.opengis.net/def/rel/ogc/1.0/queryables', 'type': 'application/schema+json', 'title': 'Queryables', 'href': 'http://localhost:8081/collections/MAXAR_Hurricane_Ian_9_26_2022/queryables'}]\n"
          ]
        }
      ],
      "source": [
        "collection_id = \"MAXAR_Hurricane_Ian_9_26_2022\"\n",
        "\n",
        "hurricane_ian = MaxarCollection(collection_id=collection_id)\n",
        "\n",
        "for attribute, value in vars(hurricane_ian.get_collection_info()).items():\n",
        "    print(f\"{attribute}: {value}\")"
      ]
    },
    {
      "cell_type": "code",
      "execution_count": null,
      "metadata": {},
      "outputs": [],
      "source": [
        "gdf = gpd.tools.geocode(\"Sanibel Island, Florida\")\n",
        "\n",
        "bounds = list(\n",
        "    map(\n",
        "        float, gdf.to_crs(gdf.estimate_utm_crs()).buffer(5000).to_crs(4326).total_bounds\n",
        "    )\n",
        ")\n",
        "\n",
        "event_date = datetime(2022, 9, 28, hour=0, minute=0)  # noqa: DTZ001, RUF100\n",
        "\n",
        "items = hurricane_ian.get_collection_items()"
      ]
    },
    {
      "cell_type": "code",
      "execution_count": 26,
      "metadata": {},
      "outputs": [],
      "source": [
        "items = hurricane_ian.get_collection_items()"
      ]
    },
    {
      "cell_type": "markdown",
      "metadata": {},
      "source": [
        "Post-event mosaic."
      ]
    },
    {
      "cell_type": "code",
      "execution_count": 23,
      "metadata": {},
      "outputs": [
        {
          "data": {
            "application/vnd.jupyter.widget-view+json": {
              "model_id": "707624ddd3704f11bbd83a8a74e25fe3",
              "version_major": 2,
              "version_minor": 0
            },
            "text/plain": [
              "Map(center=[26.440358854138267, -82.1137043870914], controls=(ZoomControl(options=['position', 'zoom_in_text',\u2026"
            ]
          },
          "execution_count": 23,
          "metadata": {},
          "output_type": "execute_result"
        }
      ],
      "source": [
        "hurricane_ian.post_event_mosaic_map(\n",
        "    bbox=bounds,\n",
        "    event_date=event_date,\n",
        "    map_kwargs={\n",
        "        \"center\": ((bounds[1] + bounds[3]) / 2, (bounds[0] + bounds[2]) / 2),\n",
        "        \"zoom\": 12,\n",
        "        \"layout\": {\"height\": \"650px\"},\n",
        "    },\n",
        ")"
      ]
    }
  ],
  "metadata": {
    "kernelspec": {
      "display_name": ".venv",
      "language": "python",
      "name": "python3"
    },
    "language_info": {
      "codemirror_mode": {
        "name": "ipython",
        "version": 3
      },
      "file_extension": ".py",
      "mimetype": "text/x-python",
      "name": "python",
      "nbconvert_exporter": "python",
      "pygments_lexer": "ipython3",
      "version": "3.11.5"
    }
  },
  "nbformat": 4,
  "nbformat_minor": 2
}
